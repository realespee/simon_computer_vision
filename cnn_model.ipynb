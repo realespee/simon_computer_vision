{
 "cells": [
  {
   "cell_type": "markdown",
   "metadata": {
    "id": "xYbMEi6iUuOn"
   },
   "source": [
    "# Setting up"
   ]
  },
  {
   "cell_type": "code",
   "execution_count": null,
   "metadata": {},
   "outputs": [],
   "source": [
    "import warnings\n",
    "warnings.filterwarnings('ignore')\n",
    "\n",
    "!wget https://www.dropbox.com/scl/fi/df9wwhemwn9gt0qtnq9ro/garden_dataset.zip?rlkey=2cjceu0zeesxdy9zwiga73nog&dl=0"
   ]
  },
  {
   "cell_type": "code",
   "execution_count": 1,
   "metadata": {
    "colab": {
     "base_uri": "https://localhost:8080/"
    },
    "id": "9iETvSj_U_8H",
    "outputId": "49bb7ffe-9cee-4bb8-ce47-2029e5ade473"
   },
   "outputs": [
    {
     "name": "stdout",
     "output_type": "stream",
     "text": [
      "Archive:  garden_dataset.zip\n",
      "  inflating: __MACOSX/._garden_dataset  \n",
      "  inflating: __MACOSX/garden_dataset/._sugarcane  \n",
      "replace garden_dataset/.DS_Store? [y]es, [n]o, [A]ll, [N]one, [r]ename: ^C\n"
     ]
    }
   ],
   "source": [
    "!unzip garden_dataset.zip"
   ]
  },
  {
   "cell_type": "markdown",
   "metadata": {
    "id": "6A_m4xc5VPAL"
   },
   "source": [
    "## process dataset"
   ]
  },
  {
   "cell_type": "code",
   "execution_count": 1,
   "metadata": {
    "id": "InVzYxH1lUId"
   },
   "outputs": [],
   "source": [
    "import os\n",
    "import shutil\n",
    "import pandas as pd\n",
    "import numpy as np\n",
    "import matplotlib.pyplot as plt\n",
    "import random\n",
    "import cv2"
   ]
  },
  {
   "cell_type": "code",
   "execution_count": 2,
   "metadata": {
    "colab": {
     "base_uri": "https://localhost:8080/"
    },
    "id": "3UlzeGrfVD8b",
    "outputId": "5cf234fc-dfed-4997-ec83-e2a689962196"
   },
   "outputs": [
    {
     "name": "stdout",
     "output_type": "stream",
     "text": [
      "327 Cassava Images\n",
      "305 Maize Images\n",
      "115 Sugar Cane Images\n",
      "287 Grass Images\n"
     ]
    }
   ],
   "source": [
    "os.makedirs(\"./data/train/cassava\")\n",
    "os.makedirs(\"./data/train/grass\")\n",
    "os.makedirs(\"./data/train/maize\")\n",
    "os.makedirs(\"./data/train/sugarcane\")\n",
    "\n",
    "os.makedirs(\"./data/val/cassava\")\n",
    "os.makedirs(\"./data/val/grass\")\n",
    "os.makedirs(\"./data/val/maize\")\n",
    "os.makedirs(\"./data/val/sugarcane\")\n",
    "\n",
    "os.makedirs(\"./data/test/cassava\")\n",
    "os.makedirs(\"./data/test/grass\")\n",
    "os.makedirs(\"./data/test/maize\")\n",
    "os.makedirs(\"./data/test/sugarcane\")\n",
    "\n",
    "cassava = len(os.listdir('./garden_dataset/cassava'))\n",
    "maize = len(os.listdir('./garden_dataset/maize'))\n",
    "sugarcane = len(os.listdir('./garden_dataset/sugarcane'))\n",
    "grass = len(os.listdir('./garden_dataset/grass'))\n",
    "\n",
    "print(f\"{cassava} Cassava Images\")\n",
    "print(f\"{maize} Maize Images\")\n",
    "print(f\"{sugarcane} Sugar Cane Images\")\n",
    "print(f\"{grass} Grass Images\")"
   ]
  },
  {
   "cell_type": "code",
   "execution_count": 18,
   "metadata": {
    "id": "Aa-uvcbsVIPL"
   },
   "outputs": [],
   "source": [
    "def populate_for_class(root_dir = 'data', training_ratio = 0.75, validation_ratio = 0.1):\n",
    "  data_test = []\n",
    "  data_train = []\n",
    "  classes = [\n",
    "      {\n",
    "          \"dir\": 'garden_dataset/cassava',\n",
    "          'text_label': 'cassava',\n",
    "          \"label\": 0\n",
    "      },\n",
    "      {\n",
    "          \"dir\": 'garden_dataset/grass',\n",
    "          'text_label': 'grass',\n",
    "          \"label\": 1\n",
    "      },\n",
    "      {\n",
    "          \"dir\": 'garden_dataset/maize',\n",
    "          'text_label': 'maize',\n",
    "          \"label\": 2\n",
    "      },\n",
    "      {\n",
    "          \"dir\": 'garden_dataset/sugarcane',\n",
    "          'text_label': 'sugarcane',\n",
    "          \"label\": 3\n",
    "      }\n",
    "  ]\n",
    "  for dataset_class in classes:\n",
    "    label = dataset_class['label']\n",
    "    folder = dataset_class['text_label']\n",
    "    src = dataset_class['dir']\n",
    "    images = os.listdir(src)\n",
    "    split = int(len(images) * training_ratio)\n",
    "    for i, img in enumerate(images):\n",
    "      train_limit = int(split * (1 - validation_ratio))\n",
    "      if i < split:\n",
    "        if i < train_limit:\n",
    "          shutil.copy(os.path.join(src, img), os.path.join(f\"{root_dir}/train/{folder}\", img))\n",
    "        else:\n",
    "          shutil.copy(os.path.join(src, img), os.path.join(f\"{root_dir}/val/{folder}\", img))\n",
    "      else:\n",
    "        shutil.copy(os.path.join(src, img), os.path.join(f\"{root_dir}/test/{folder}\", img))"
   ]
  },
  {
   "cell_type": "code",
   "execution_count": 19,
   "metadata": {
    "id": "uu4y3VlEyFFc"
   },
   "outputs": [],
   "source": [
    "populate_for_class()"
   ]
  },
  {
   "cell_type": "markdown",
   "metadata": {
    "id": "7KOEA3Mxt8kN"
   },
   "source": [
    "# Data Loading"
   ]
  },
  {
   "cell_type": "code",
   "execution_count": 5,
   "metadata": {
    "id": "6qr19I2Et-iz"
   },
   "outputs": [],
   "source": [
    "import keras\n",
    "import tensorflow as tf\n",
    "from keras.models import Sequential\n",
    "from keras.preprocessing.image import ImageDataGenerator\n",
    "from keras.layers import Conv2D, Dropout,  MaxPooling2D, Flatten, Dense, Input, Activation, BatchNormalization"
   ]
  },
  {
   "cell_type": "code",
   "execution_count": 20,
   "metadata": {
    "id": "Tqqll0v1uMg3"
   },
   "outputs": [],
   "source": [
    "# Constants\n",
    "BATCH_SIZE = 32\n",
    "EPOCHS=10"
   ]
  },
  {
   "cell_type": "code",
   "execution_count": 21,
   "metadata": {
    "colab": {
     "base_uri": "https://localhost:8080/"
    },
    "id": "7pQkn2fyuPJ1",
    "outputId": "44f089c2-af3d-449a-e86f-1a66ebb4b5ef"
   },
   "outputs": [
    {
     "name": "stdout",
     "output_type": "stream",
     "text": [
      "Found 723 images belonging to 4 classes.\n",
      "Found 234 images belonging to 4 classes.\n",
      "Found 260 images belonging to 4 classes.\n"
     ]
    }
   ],
   "source": [
    "data_gen = ImageDataGenerator(rescale=1.0/255.0)\n",
    "\n",
    "train_itr = data_gen.flow_from_directory(\n",
    "    'data/train',\n",
    "    target_size=(256, 256),\n",
    "    class_mode='categorical',\n",
    "    batch_size=BATCH_SIZE\n",
    ")\n",
    "\n",
    "val_itr = data_gen.flow_from_directory(\n",
    "    'data/val',\n",
    "    target_size=(256, 256),\n",
    "    class_mode='categorical',\n",
    "    batch_size=BATCH_SIZE\n",
    ")\n",
    "\n",
    "test_itr = data_gen.flow_from_directory(\n",
    "    'data/test',\n",
    "    target_size=(256, 256),\n",
    "    class_mode='categorical',\n",
    "    batch_size=BATCH_SIZE,\n",
    "    shuffle=False\n",
    ")"
   ]
  },
  {
   "cell_type": "markdown",
   "metadata": {
    "id": "mUsS-i6iAMs0"
   },
   "source": [
    "# Model training[Original Extracted Dataset]"
   ]
  },
  {
   "cell_type": "code",
   "execution_count": 28,
   "metadata": {},
   "outputs": [],
   "source": [
    "model = Sequential()\n",
    "model.add(Conv2D(32, (3, 3), activation='relu', input_shape=(256, 256, 3)))\n",
    "model.add(MaxPooling2D((2, 2)))\n",
    "model.add(Conv2D(64, (3, 3), activation='relu'))\n",
    "model.add(MaxPooling2D((2, 2)))\n",
    "model.add(Conv2D(128, (3, 3), activation='relu'))\n",
    "model.add(MaxPooling2D((2, 2)))\n",
    "model.add(Flatten())\n",
    "model.add(Dense(128, activation='relu'))\n",
    "model.add(Dense(4, activation='softmax'))"
   ]
  },
  {
   "cell_type": "code",
   "execution_count": 29,
   "metadata": {
    "id": "PuN_avyWwzyp"
   },
   "outputs": [],
   "source": [
    "opt = keras.optimizers.Adam(learning_rate=1e-4)\n",
    "model.compile(loss=\"categorical_crossentropy\",optimizer=opt, metrics=['accuracy'])"
   ]
  },
  {
   "cell_type": "code",
   "execution_count": 30,
   "metadata": {
    "colab": {
     "base_uri": "https://localhost:8080/"
    },
    "id": "mVVGot-sw58m",
    "outputId": "8a1dcbd9-1e92-4473-ef79-e908c04c6b7c"
   },
   "outputs": [
    {
     "name": "stdout",
     "output_type": "stream",
     "text": [
      "Epoch 1/10\n",
      "23/23 [==============================] - 81s 4s/step - loss: 1.0349 - accuracy: 0.6196 - val_loss: 0.7103 - val_accuracy: 0.7735\n",
      "Epoch 2/10\n",
      "23/23 [==============================] - 87s 4s/step - loss: 0.4624 - accuracy: 0.8686 - val_loss: 0.3879 - val_accuracy: 0.8718\n",
      "Epoch 3/10\n",
      "23/23 [==============================] - 91s 4s/step - loss: 0.2855 - accuracy: 0.9184 - val_loss: 0.3081 - val_accuracy: 0.8932\n",
      "Epoch 4/10\n",
      "23/23 [==============================] - 84s 4s/step - loss: 0.2082 - accuracy: 0.9447 - val_loss: 0.3059 - val_accuracy: 0.8590\n",
      "Epoch 5/10\n",
      "23/23 [==============================] - 72s 3s/step - loss: 0.1265 - accuracy: 0.9834 - val_loss: 0.2314 - val_accuracy: 0.9103\n",
      "Epoch 6/10\n",
      "23/23 [==============================] - 86s 4s/step - loss: 0.1021 - accuracy: 0.9848 - val_loss: 0.2481 - val_accuracy: 0.9060\n",
      "Epoch 7/10\n",
      "23/23 [==============================] - 92s 4s/step - loss: 0.0741 - accuracy: 0.9876 - val_loss: 0.1888 - val_accuracy: 0.9359\n",
      "Epoch 8/10\n",
      "23/23 [==============================] - 88s 4s/step - loss: 0.0538 - accuracy: 0.9945 - val_loss: 0.1891 - val_accuracy: 0.9103\n",
      "Epoch 9/10\n",
      "23/23 [==============================] - 86s 4s/step - loss: 0.0422 - accuracy: 0.9959 - val_loss: 0.1920 - val_accuracy: 0.9145\n",
      "Epoch 10/10\n",
      "23/23 [==============================] - 87s 4s/step - loss: 0.0290 - accuracy: 0.9959 - val_loss: 0.1621 - val_accuracy: 0.9316\n"
     ]
    }
   ],
   "source": [
    "history = model.fit(train_itr, batch_size=BATCH_SIZE, epochs=EPOCHS, validation_data=val_itr)"
   ]
  },
  {
   "cell_type": "code",
   "execution_count": 36,
   "metadata": {},
   "outputs": [
    {
     "name": "stdout",
     "output_type": "stream",
     "text": [
      "Model: \"sequential_2\"\n",
      "_________________________________________________________________\n",
      " Layer (type)                Output Shape              Param #   \n",
      "=================================================================\n",
      " conv2d_5 (Conv2D)           (None, 254, 254, 32)      896       \n",
      "                                                                 \n",
      " max_pooling2d_5 (MaxPooling  (None, 127, 127, 32)     0         \n",
      " 2D)                                                             \n",
      "                                                                 \n",
      " conv2d_6 (Conv2D)           (None, 125, 125, 64)      18496     \n",
      "                                                                 \n",
      " max_pooling2d_6 (MaxPooling  (None, 62, 62, 64)       0         \n",
      " 2D)                                                             \n",
      "                                                                 \n",
      " conv2d_7 (Conv2D)           (None, 60, 60, 128)       73856     \n",
      "                                                                 \n",
      " max_pooling2d_7 (MaxPooling  (None, 30, 30, 128)      0         \n",
      " 2D)                                                             \n",
      "                                                                 \n",
      " flatten_2 (Flatten)         (None, 115200)            0         \n",
      "                                                                 \n",
      " dense_4 (Dense)             (None, 128)               14745728  \n",
      "                                                                 \n",
      " dense_5 (Dense)             (None, 4)                 516       \n",
      "                                                                 \n",
      "=================================================================\n",
      "Total params: 14,839,492\n",
      "Trainable params: 14,839,492\n",
      "Non-trainable params: 0\n",
      "_________________________________________________________________\n"
     ]
    }
   ],
   "source": [
    "model.summary()"
   ]
  },
  {
   "cell_type": "code",
   "execution_count": 11,
   "metadata": {
    "colab": {
     "base_uri": "https://localhost:8080/",
     "height": 448
    },
    "id": "cgiiOToZz5ZY",
    "outputId": "f4eb3641-2c21-4e8d-db7d-839535022a5e"
   },
   "outputs": [
    {
     "data": {
      "text/plain": [
       "<AxesSubplot: >"
      ]
     },
     "execution_count": 11,
     "metadata": {},
     "output_type": "execute_result"
    },
    {
     "data": {
      "image/png": "[encoded data removed]",
      "text/plain": [
       "<Figure size 640x480 with 1 Axes>"
      ]
     },
     "metadata": {},
     "output_type": "display_data"
    }
   ],
   "source": [
    "import pandas as pd\n",
    "\n",
    "history_df = pd.DataFrame(history.history)\n",
    "history_df.loc[0:, ['loss', 'val_loss']].plot()"
   ]
  },
  {
   "cell_type": "code",
   "execution_count": 12,
   "metadata": {
    "colab": {
     "base_uri": "https://localhost:8080/",
     "height": 448
    },
    "id": "5h5nhdbt8n0C",
    "outputId": "e36f6f11-c653-4b2c-bbe1-2ad9f881e169"
   },
   "outputs": [
    {
     "data": {
      "text/plain": [
       "<AxesSubplot: >"
      ]
     },
     "execution_count": 12,
     "metadata": {},
     "output_type": "execute_result"
    },
    {
     "data": {
      "image/png": "[encoded data removed]",
      "text/plain": [
       "<Figure size 640x480 with 1 Axes>"
      ]
     },
     "metadata": {},
     "output_type": "display_data"
    }
   ],
   "source": [
    "history_df.loc[0:, ['accuracy', 'val_accuracy']].plot()"
   ]
  },
  {
   "cell_type": "code",
   "execution_count": 31,
   "metadata": {
    "colab": {
     "base_uri": "https://localhost:8080/"
    },
    "id": "QBtXpLGD8rU2",
    "outputId": "01142f26-7ad6-457d-b6a9-15d7aa9eb5c4"
   },
   "outputs": [
    {
     "name": "stdout",
     "output_type": "stream",
     "text": [
      "9/9 [==============================] - 18s 2s/step\n"
     ]
    }
   ],
   "source": [
    "prediction = model.predict(test_itr)"
   ]
  },
  {
   "cell_type": "code",
   "execution_count": 32,
   "metadata": {
    "id": "4zyiWmPsDvKH"
   },
   "outputs": [],
   "source": [
    "from sklearn.metrics import accuracy_score, classification_report, confusion_matrix, ConfusionMatrixDisplay, roc_curve, auc"
   ]
  },
  {
   "cell_type": "code",
   "execution_count": 33,
   "metadata": {
    "colab": {
     "base_uri": "https://localhost:8080/"
    },
    "id": "ifgpcKOd-emr",
    "outputId": "8a67f0c8-e447-4e67-8ce5-a238d97079f4"
   },
   "outputs": [
    {
     "name": "stdout",
     "output_type": "stream",
     "text": [
      "              precision    recall  f1-score   support\n",
      "\n",
      "           0       0.81      0.93      0.86        82\n",
      "           1       0.99      0.93      0.96        72\n",
      "           2       0.90      0.83      0.86        77\n",
      "           3       0.96      0.90      0.93        29\n",
      "\n",
      "    accuracy                           0.90       260\n",
      "   macro avg       0.91      0.90      0.90       260\n",
      "weighted avg       0.90      0.90      0.90       260\n",
      "\n"
     ]
    }
   ],
   "source": [
    "pred_labels = np.argmax(prediction, axis=1)\n",
    "print(classification_report(test_itr.classes, pred_labels))"
   ]
  },
  {
   "cell_type": "code",
   "execution_count": 34,
   "metadata": {
    "colab": {
     "base_uri": "https://localhost:8080/",
     "height": 661
    },
    "id": "EKKfuexBDxg4",
    "outputId": "d62a1835-358b-4f89-96be-4aa1a7baecf1"
   },
   "outputs": [
    {
     "data": {
      "image/png": "[encoded data removed]",
      "text/plain": [
       "<Figure size 800x800 with 2 Axes>"
      ]
     },
     "metadata": {},
     "output_type": "display_data"
    }
   ],
   "source": [
    "matrix = confusion_matrix(test_itr.classes, pred_labels)\n",
    "cm_display = ConfusionMatrixDisplay(confusion_matrix = matrix, display_labels=['Cassava', 'Grass', 'Maize', 'Sugar Cane'])\n",
    "\n",
    "plt.figure(figsize=(8,8))\n",
    "plt.title(f\"Confusion Matrix\")\n",
    "cm_display.plot(ax=plt.subplot())\n",
    "plt.show()"
   ]
  }
 ],
 "metadata": {
  "accelerator": "GPU",
  "colab": {
   "gpuType": "T4",
   "provenance": []
  },
  "kernelspec": {
   "display_name": "Python 3 (ipykernel)",
   "language": "python",
   "name": "python3"
  },
  "language_info": {
   "codemirror_mode": {
    "name": "ipython",
    "version": 3
   },
   "file_extension": ".py",
   "mimetype": "text/x-python",
   "name": "python",
   "nbconvert_exporter": "python",
   "pygments_lexer": "ipython3",
   "version": "3.11.9"
  }
 },
 "nbformat": 4,
 "nbformat_minor": 4
}
